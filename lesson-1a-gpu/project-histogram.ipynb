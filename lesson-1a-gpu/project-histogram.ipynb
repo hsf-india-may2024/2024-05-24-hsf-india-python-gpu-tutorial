{
 "cells": [
  {
   "cell_type": "markdown",
   "id": "e555a0f3-91f4-4601-a04c-6d243f953641",
   "metadata": {
    "editable": true,
    "slideshow": {
     "slide_type": ""
    },
    "tags": []
   },
   "source": [
    "# Lesson 1a project: Filling histograms on a GPU"
   ]
  },
  {
   "cell_type": "code",
   "execution_count": null,
   "id": "ee1f5331-fcfd-43be-8067-fc9e34eb6db4",
   "metadata": {
    "editable": true,
    "slideshow": {
     "slide_type": ""
    },
    "tags": []
   },
   "outputs": [],
   "source": [
    "import math\n",
    "\n",
    "import matplotlib.pyplot as plt\n",
    "import numpy as np\n",
    "import cupy as cp\n",
    "import numba.cuda\n",
    "import numba as nb\n",
    "import uproot\n",
    "import awkward as ak\n",
    "from hist import Hist\n",
    "ak.numba.register_and_check()"
   ]
  },
  {
   "cell_type": "markdown",
   "id": "005b04d9-b442-4373-a92e-3c74e285724b",
   "metadata": {
    "editable": true,
    "slideshow": {
     "slide_type": ""
    },
    "tags": []
   },
   "source": [
    "In the following file, there are 10 million dimuon masses (real data, computed on a GPU)."
   ]
  },
  {
   "cell_type": "code",
   "execution_count": null,
   "id": "aefd726a-1915-4ad5-b23c-6ee320b0224b",
   "metadata": {
    "editable": true,
    "slideshow": {
     "slide_type": ""
    },
    "tags": []
   },
   "outputs": [],
   "source": [
    "with uproot.open(\"../data/dimuon_mass.root:tree/mass\") as branch:\n",
    "    mass = cp.asarray(branch.array(library=\"np\"))\n",
    "\n",
    "mass"
   ]
  },
  {
   "cell_type": "code",
   "execution_count": null,
   "id": "1ddee1b1-c869-43b4-8098-66782a5df873",
   "metadata": {
    "editable": true,
    "slideshow": {
     "slide_type": ""
    },
    "tags": []
   },
   "outputs": [],
   "source": [
    "type(mass)"
   ]
  },
  {
   "attachments": {
    "1bd8efb3-e040-42c0-86b7-9f9bf1226282.png": {
     "image/png": "[encoded data removed]"
    }
   },
   "cell_type": "markdown",
   "id": "e64563a6-6e4a-4980-9cff-7f245263fae2",
   "metadata": {
    "editable": true,
    "slideshow": {
     "slide_type": ""
    },
    "tags": []
   },
   "source": [
    "The dimuon mass values are now on the GPU, and your goal is to make a histogram of them, which would look like this:\n",
    "\n",
    "![image.png](attachment:1bd8efb3-e040-42c0-86b7-9f9bf1226282.png)\n",
    "\n",
    "`Hist` can only fill histograms on the CPU (currently), so we will only be using it to turn an array of bin values into a plot:\n",
    "\n",
    "```python\n",
    "h = Hist.new.Reg(1200, 0, 120, label=\"mass\").Double()\n",
    "h.values()[:] = bin_values.get()\n",
    "\n",
    "fig, ax = plt.subplots(figsize=(7, 5))\n",
    "h.plot(ax=ax)\n",
    "ax.set_xlim(0, 120)\n",
    "ax.set_yscale(\"log\");\n",
    "```\n",
    "\n",
    "in which `bin_values` is a CuPy array with 1200 entries, representing the number of `mass` values in regular bins from `0` GeV to `120` GeV."
   ]
  },
  {
   "cell_type": "code",
   "execution_count": null,
   "id": "1616de13-9174-4bae-918f-a1cac788501f",
   "metadata": {
    "editable": true,
    "slideshow": {
     "slide_type": ""
    },
    "tags": []
   },
   "outputs": [],
   "source": [
    "bin_values = cp.zeros(1200, dtype=np.uint32)"
   ]
  },
  {
   "cell_type": "markdown",
   "id": "64dc8b35-3c81-4a9d-9194-f5605e7388b6",
   "metadata": {
    "editable": true,
    "slideshow": {
     "slide_type": ""
    },
    "tags": []
   },
   "source": [
    "For a given value from `mass`, the bin to fill is"
   ]
  },
  {
   "cell_type": "code",
   "execution_count": null,
   "id": "3a4db9e6-4dfd-4e3a-9957-65098248767f",
   "metadata": {
    "editable": true,
    "slideshow": {
     "slide_type": ""
    },
    "tags": []
   },
   "outputs": [],
   "source": [
    "@nb.cuda.jit(device=True)\n",
    "def bin_index(x):\n",
    "    if x < 0:\n",
    "        return 0\n",
    "    elif x >= 120:\n",
    "        return 1199\n",
    "    else:\n",
    "        return x * 10"
   ]
  },
  {
   "cell_type": "markdown",
   "id": "c4925fec-409f-4ca1-ad7a-3f8a419463c4",
   "metadata": {
    "editable": true,
    "slideshow": {
     "slide_type": ""
    },
    "tags": []
   },
   "source": [
    "where bins `0` and `1199` are used for underflow and overflow, respectively.\n",
    "\n",
    "You might want to fill the histogram with\n",
    "\n",
    "```python\n",
    "bin_values[bin_index(mass[i])] += 1\n",
    "```\n",
    "\n",
    "but multiple threads would attempt to write to the same element of `bin_values` at the same time, and the result would be wrong."
   ]
  },
  {
   "cell_type": "markdown",
   "id": "1b56e946-e547-4981-902e-66eefaf733cc",
   "metadata": {
    "editable": true,
    "slideshow": {
     "slide_type": ""
    },
    "tags": []
   },
   "source": [
    "<br><br><br><br><br>"
   ]
  },
  {
   "cell_type": "markdown",
   "id": "a5bdf62d-8da5-45af-b3a3-cca1643e3f4d",
   "metadata": {
    "editable": true,
    "slideshow": {
     "slide_type": ""
    },
    "tags": []
   },
   "source": [
    "Exercises 1 and 2 are not to be done one after the other: _only one of the two will be practical_. Your first problem is to determine which strategy is going to work. For the strategy that can't be computed, at least set up the computation, even though it won't work."
   ]
  },
  {
   "cell_type": "markdown",
   "id": "97fbe736-8e76-481a-8735-d544a1f16912",
   "metadata": {
    "editable": true,
    "slideshow": {
     "slide_type": ""
    },
    "tags": []
   },
   "source": [
    "<br><br><br><br><br>"
   ]
  },
  {
   "cell_type": "markdown",
   "id": "dad8e86d-8eb4-478e-822d-6254c410bfc1",
   "metadata": {
    "editable": true,
    "slideshow": {
     "slide_type": ""
    },
    "tags": []
   },
   "source": [
    "## Exercise 1"
   ]
  },
  {
   "cell_type": "markdown",
   "id": "2318281d-6529-4abe-af59-0c92f055e158",
   "metadata": {
    "editable": true,
    "slideshow": {
     "slide_type": ""
    },
    "tags": []
   },
   "source": [
    "Fill the histogram using reduction.\n",
    "\n",
    "On a computer cluster (horizontal scaling), we submit tasks to run concurrently on non-overlapping parts of the big dataset. Each task has its own copy of the histograms to fill. It fills its own histograms, then sends them to a single computer that adds them together to get the final result.\n",
    "\n",
    "On a GPU, what are the tasks run concurrently? If you want to process 10 million entries in the `mass` array, how many concurrent tasks will there be?\n",
    "\n",
    "How would you make copies of `bin_values` for all of your concurrent tasks to fill? How would you sum them up at the end?\n",
    "\n",
    "You're allowed to use [cp.sum](https://docs.cupy.dev/en/stable/reference/generated/cupy.sum.html) with an appropriate `axis` parameter to do the tree-reduction. You don't have to do it manually."
   ]
  },
  {
   "cell_type": "code",
   "execution_count": null,
   "id": "0b041479-a349-4c82-87d1-5272572e600e",
   "metadata": {
    "editable": true,
    "slideshow": {
     "slide_type": ""
    },
    "tags": []
   },
   "outputs": [],
   "source": [
    "@nb.cuda.jit\n",
    "def fill_histogram(all_histograms, mass):\n",
    "    thread_idx = nb.cuda.grid(1)\n",
    "    if thread_idx < len(mass):\n",
    "        ...\n",
    "\n",
    "num_threads = ...\n",
    "num_blocks = ...\n",
    "\n",
    "all_histograms = ...\n",
    "\n",
    "fill_histogram[num_blocks, num_threads](all_histograms, mass)\n",
    "\n",
    "bin_values = ..."
   ]
  },
  {
   "cell_type": "code",
   "execution_count": null,
   "id": "c51a7c19-3122-432f-b9b6-dc56e50921a8",
   "metadata": {
    "editable": true,
    "slideshow": {
     "slide_type": ""
    },
    "tags": []
   },
   "outputs": [],
   "source": [
    "h = Hist.new.Reg(1200, 0, 120, label=\"mass\").Double()\n",
    "h.values()[:] = bin_values.get()\n",
    "\n",
    "fig, ax = plt.subplots(figsize=(7, 5))\n",
    "h.plot(ax=ax)\n",
    "ax.set_xlim(0, 120)\n",
    "ax.set_yscale(\"log\");"
   ]
  },
  {
   "cell_type": "markdown",
   "id": "5c2cba99-e103-4892-8ba0-2a6e2be19755",
   "metadata": {
    "editable": true,
    "slideshow": {
     "slide_type": ""
    },
    "tags": []
   },
   "source": [
    "<br><br><br><br><br>"
   ]
  },
  {
   "cell_type": "markdown",
   "id": "0191b8f5-8aa5-4a02-b6f2-a87eb067be4e",
   "metadata": {
    "editable": true,
    "slideshow": {
     "slide_type": ""
    },
    "tags": []
   },
   "source": [
    "## Exercise 2"
   ]
  },
  {
   "cell_type": "markdown",
   "id": "bc23b485-552e-48ba-a5f8-1d06e31c843a",
   "metadata": {
    "editable": true,
    "slideshow": {
     "slide_type": ""
    },
    "tags": []
   },
   "source": [
    "Fill the histogram using atomics.\n",
    "\n",
    "In Numba, you can access CUDA's atomic intrinsics as `nb.cuda.atomic.*` functions. See [the documentation here](https://numba.readthedocs.io/en/stable/cuda/intrinsics.html).\n",
    "\n",
    "Which function(s) could you use to do it? What `dtype` must `bin_values` have in order to use it? (You're allowed to change the `dtype` to use your preferred atomic function.)\n",
    "\n",
    "What implications does the number of bins have on performance? What would happen if the statistical distribution were narrower or wider?"
   ]
  },
  {
   "cell_type": "code",
   "execution_count": null,
   "id": "1a7d548c-98ee-47d5-9522-8bd184becdba",
   "metadata": {
    "editable": true,
    "slideshow": {
     "slide_type": ""
    },
    "tags": []
   },
   "outputs": [],
   "source": [
    "@nb.cuda.jit\n",
    "def fill_histogram(bin_values, mass):\n",
    "    thread_idx = nb.cuda.grid(1)\n",
    "    if thread_idx < len(mass):\n",
    "        ...\n",
    "\n",
    "num_threads = ...\n",
    "num_blocks = ...\n",
    "\n",
    "fill_histogram[num_blocks, num_threads](bin_values, mass)"
   ]
  },
  {
   "cell_type": "code",
   "execution_count": null,
   "id": "7f0a0588-11f2-4c03-a690-72c92f8f6710",
   "metadata": {
    "editable": true,
    "slideshow": {
     "slide_type": ""
    },
    "tags": []
   },
   "outputs": [],
   "source": [
    "h = Hist.new.Reg(1200, 0, 120, label=\"mass\").Double()\n",
    "h.values()[:] = bin_values.get()\n",
    "\n",
    "fig, ax = plt.subplots(figsize=(7, 5))\n",
    "h.plot(ax=ax)\n",
    "ax.set_xlim(0, 120)\n",
    "ax.set_yscale(\"log\");"
   ]
  }
 ],
 "metadata": {
  "kernelspec": {
   "display_name": "Python 3 (ipykernel)",
   "language": "python",
   "name": "python3"
  },
  "language_info": {
   "codemirror_mode": {
    "name": "ipython",
    "version": 3
   },
   "file_extension": ".py",
   "mimetype": "text/x-python",
   "name": "python",
   "nbconvert_exporter": "python",
   "pygments_lexer": "ipython3",
   "version": "3.10.13"
  }
 },
 "nbformat": 4,
 "nbformat_minor": 5
}
