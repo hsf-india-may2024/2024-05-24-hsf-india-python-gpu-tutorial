{
 "cells": [
  {
   "cell_type": "markdown",
   "id": "adbd6ecb-e22e-44fe-a23b-e63cbb06a4b4",
   "metadata": {
    "editable": true,
    "slideshow": {
     "slide_type": ""
    },
    "tags": []
   },
   "source": [
    "# Lesson 5a: GPU programming in Python (workbook)"
   ]
  },
  {
   "cell_type": "markdown",
   "id": "0e7b1a9b-9963-42da-9531-a41465901a9e",
   "metadata": {
    "editable": true,
    "slideshow": {
     "slide_type": ""
    },
    "tags": []
   },
   "source": [
    "There are no interactive questions in this session, so there's nothing to run in this notebook."
   ]
  }
 ],
 "metadata": {
  "kernelspec": {
   "display_name": "Python 3 (ipykernel)",
   "language": "python",
   "name": "python3"
  },
  "language_info": {
   "codemirror_mode": {
    "name": "ipython",
    "version": 3
   },
   "file_extension": ".py",
   "mimetype": "text/x-python",
   "name": "python",
   "nbconvert_exporter": "python",
   "pygments_lexer": "ipython3",
   "version": "3.10.13"
  }
 },
 "nbformat": 4,
 "nbformat_minor": 5
}
