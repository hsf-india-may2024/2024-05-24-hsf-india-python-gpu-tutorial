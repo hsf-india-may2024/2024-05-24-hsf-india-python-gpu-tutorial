{
 "cells": [
  {
   "cell_type": "markdown",
   "id": "97462d5e-c4cc-441e-8e73-632fbd2d8b57",
   "metadata": {
    "editable": true,
    "slideshow": {
     "slide_type": ""
    },
    "tags": []
   },
   "source": [
    "# Lesson 1b project: Monte Carlo simulations"
   ]
  },
  {
   "cell_type": "markdown",
   "id": "8b6208c9-0952-4dfc-ab3d-b8d5071e3e48",
   "metadata": {},
   "source": [
    "## Problem statement"
   ]
  },
  {
   "cell_type": "markdown",
   "id": "b3be31d1-9664-48bb-8786-e581569c4fa0",
   "metadata": {},
   "source": [
    "**Goal:** Sample random number pairs $x \\in (-1, 1)$, $y \\in (-1, 1)$ with a uniform distribution to compute the area of a circle with radius $r = 1$. Then use the area $A = \\pi r^2$ formula to derive $\\pi$.\n",
    "\n",
    "* How does the accuracy depend on number of sampled pairs?\n",
    "* What about the computation time?\n",
    "\n",
    "**Stretch goal:** Use the same technique to compute the area of the Mandelbrot set. The [Mandelbrot set](https://en.wikipedia.org/wiki/Mandelbrot_set) is a set of [complex numbers](https://en.wikipedia.org/wiki/Complex_number) $c$ for which\n",
    "\n",
    "$$z_{i + 1} = |z_i|^2 + c \\mbox{ with } z_0 = 0$$\n",
    "\n",
    "does not diverge to infinity ($z_i \\to \\infty$ as $i \\to \\infty$).\n",
    "\n",
    "The following CUDA device function identifies whether a point $c = x + y\\,i$ is in the Mandelbrot set ($x$ and $y$ are both real numbers and $i = \\sqrt{-1}$), using [Floyd's algorithm](https://en.wikipedia.org/wiki/Cycle_detection#Floyd's_tortoise_and_hare) to detect cycles and convergence to zero. This is more accurate than the 20 iteration cut-off we used in [lesson-4-scaling/project-1-mandelbrot.ipynb](../lesson-4-scaling/project-1-mandelbrot.ipynb), which is necessary when computing the area.\n",
    "\n",
    "```python\n",
    "@nb.cuda.jit(device=True)\n",
    "def is_in_mandelbrot(x, y):\n",
    "    c = np.complex64(x) + np.complex64(y)*np.complex64(1j)\n",
    "    z_hare = z_tortoise = np.complex64(0)\n",
    "    while True:\n",
    "        z_hare = z_hare*z_hare + c\n",
    "        z_hare = z_hare*z_hare + c\n",
    "        z_tortoise = z_tortoise*z_tortoise + c\n",
    "        if z_hare == z_tortoise:\n",
    "            return True      # orbiting or converging to zero\n",
    "        if z_hare.real**2 + z_hare.imag**2 > 4:\n",
    "            return False     # diverging to infinity\n",
    "```\n",
    "\n",
    "You can assume that the Mandelbrot set is entirely contained within $x \\in (-2, 1)$, $y \\in (-\\frac{3}{2}, \\frac{3}{2})$, which has area $9$ (see [[Knill (2023)](https://doi.org/10.48550/arXiv.2305.17848)], section 4.7).\n",
    "\n",
    "The exact area of the Mandelbrot set is not known, mathematically. There is an expression,\n",
    "\n",
    "$$\\mbox{area of Mandelbrot set} = \\pi \\left( 1 - \\sum_{n=1}^\\infty n \\, {b_n}^2 \\right)$$\n",
    "\n",
    "in which the terms $b_n$ can be determined recursively, but it converges very slowly: $10^{118}$ terms are needed to get the first 2 digits, and $10^{1181}$ terms are needed to get 3 digits [[Ewing & Schober (1992)](https://doi.org/10.1007/BF01385497)]. The best estimates of the Mandelbrot set's area come from sampling techniques like this one. The most recent publication is [[Bittner, Cheong, Gates, & Nguyen (2012)](https://doi.org/10.2140/involve.2017.10.555)] and the most recent unpublished estimate is [[Förstemann (2017)](https://www.foerstemann.name/labor.html)] using 2× Radeon HD 5970 and a tree-splitting (rather than random) search. The most precise, rigorous bounds to date are\n",
    "\n",
    "$$1.50640 < \\mbox{area of Mandelbrot set} < 1.53121\\mbox{.}$$\n",
    "\n",
    "If you're interested in this sort of thing, Robert Munafo wrote a [rabbit warren of hyperlinked pages](http://www.mrob.com/pub/muency/areaofthemandelbrotset.html) about all of the techniques in 2003, from a [Usenet thread (alt.fractals)](https://ics.uci.edu/~eppstein/junkyard/mand-area.html) that started exactly 5 days after the [first release of Python (alt.sources)](https://www.tuhs.org/Usenet/alt.sources/1991-February/001749.html). Weird, huh?"
   ]
  }
 ],
 "metadata": {
  "kernelspec": {
   "display_name": "Python 3 (ipykernel)",
   "language": "python",
   "name": "python3"
  },
  "language_info": {
   "codemirror_mode": {
    "name": "ipython",
    "version": 3
   },
   "file_extension": ".py",
   "mimetype": "text/x-python",
   "name": "python",
   "nbconvert_exporter": "python",
   "pygments_lexer": "ipython3",
   "version": "3.10.13"
  }
 },
 "nbformat": 4,
 "nbformat_minor": 5
}
