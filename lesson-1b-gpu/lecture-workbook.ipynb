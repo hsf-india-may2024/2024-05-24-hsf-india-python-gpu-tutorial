{
 "cells": [
  {
   "cell_type": "markdown",
   "id": "3d39e2a7-e788-4866-9b70-c37c67509783",
   "metadata": {
    "editable": true,
    "slideshow": {
     "slide_type": ""
    },
    "tags": []
   },
   "source": [
    "# Lesson 1b: GPU programming in Python (workbook)"
   ]
  },
  {
   "cell_type": "markdown",
   "id": "6ab934bc-1a42-4240-a355-b4238ed7feea",
   "metadata": {
    "editable": true,
    "slideshow": {
     "slide_type": ""
    },
    "tags": []
   },
   "source": [
    "There are no interactive questions in this session, so there's nothing to run in this notebook."
   ]
  }
 ],
 "metadata": {
  "kernelspec": {
   "display_name": "Python 3 (ipykernel)",
   "language": "python",
   "name": "python3"
  },
  "language_info": {
   "codemirror_mode": {
    "name": "ipython",
    "version": 3
   },
   "file_extension": ".py",
   "mimetype": "text/x-python",
   "name": "python",
   "nbconvert_exporter": "python",
   "pygments_lexer": "ipython3",
   "version": "3.10.13"
  }
 },
 "nbformat": 4,
 "nbformat_minor": 5
}
