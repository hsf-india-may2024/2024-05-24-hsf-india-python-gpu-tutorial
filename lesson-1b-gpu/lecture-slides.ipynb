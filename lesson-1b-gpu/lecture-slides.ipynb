{
 "cells": [
  {
   "cell_type": "markdown",
   "id": "1e6d712d-95bc-4e62-b926-61464854b1ec",
   "metadata": {
    "editable": true,
    "slideshow": {
     "slide_type": ""
    },
    "tags": []
   },
   "source": [
    "# Lesson 5b: GPU programming in Python"
   ]
  },
  {
   "cell_type": "markdown",
   "id": "43178cb1-259a-4ffc-b072-22b7766d1f85",
   "metadata": {
    "editable": true,
    "slideshow": {
     "slide_type": "slide"
    },
    "tags": []
   },
   "source": [
    "## Random numbers"
   ]
  },
  {
   "cell_type": "markdown",
   "id": "b4de3f56-4730-48b9-a0e5-a0f8162babec",
   "metadata": {
    "editable": true,
    "slideshow": {
     "slide_type": ""
    },
    "tags": []
   },
   "source": [
    "<br>"
   ]
  },
  {
   "cell_type": "markdown",
   "id": "2954baef-433c-488b-98f4-ab81eaf4f955",
   "metadata": {
    "editable": true,
    "slideshow": {
     "slide_type": ""
    },
    "tags": []
   },
   "source": [
    "Not all problems are data in → data out. We like Monte Carlo, which generates its own data from random numbers."
   ]
  },
  {
   "cell_type": "markdown",
   "id": "d37baf7d-04a7-4984-8afa-94d2cc188b95",
   "metadata": {
    "editable": true,
    "slideshow": {
     "slide_type": ""
    },
    "tags": []
   },
   "source": [
    "<br>"
   ]
  },
  {
   "cell_type": "markdown",
   "id": "3ac820c6-97d0-4838-aca4-bb1f5894a17e",
   "metadata": {
    "editable": true,
    "slideshow": {
     "slide_type": ""
    },
    "tags": []
   },
   "source": [
    "Computers (including GPUs) are deterministic, so \"random numbers\" really means \"arbitrary numbers,\" a sequence that starts with a seed number that would be unsurprising if we were expecting a uniformly distributed, statistically independent set."
   ]
  },
  {
   "cell_type": "markdown",
   "id": "bbfbe485-ec1a-445b-94c8-19988c60df84",
   "metadata": {
    "editable": true,
    "slideshow": {
     "slide_type": ""
    },
    "tags": []
   },
   "source": [
    "<br>"
   ]
  },
  {
   "cell_type": "code",
   "execution_count": null,
   "id": "89c64f63-6887-4146-95c2-c69565cbd5f8",
   "metadata": {
    "editable": true,
    "slideshow": {
     "slide_type": ""
    },
    "tags": []
   },
   "outputs": [],
   "source": [
    "import numpy as np\n",
    "\n",
    "# np.random.seed(12345)\n",
    "\n",
    "np.random.uniform(0, 1, 25)"
   ]
  },
  {
   "cell_type": "code",
   "execution_count": null,
   "id": "816e9b79-5874-4053-ae99-f510948b7a74",
   "metadata": {
    "slideshow": {
     "slide_type": "slide"
    },
    "tags": []
   },
   "outputs": [],
   "source": [
    "from hist import Hist\n",
    "\n",
    "np.random.seed(12345)\n",
    "Hist.new.Reg(1000, 0, 1).Double().fill(np.random.uniform(0, 1, 1000000)).plot();"
   ]
  },
  {
   "cell_type": "markdown",
   "id": "357c424f-e577-4189-b1ab-55fd97890d61",
   "metadata": {
    "slideshow": {
     "slide_type": "slide"
    },
    "tags": []
   },
   "source": [
    "**Note:** if you want \"truly\" random numbers, Python has a way to set the seed with an arbitrary value. The `os.urandom` function returns random bytes from `/dev/urandom` (the operating system), which you can cast into an integer."
   ]
  },
  {
   "cell_type": "markdown",
   "id": "530468e1-f8a9-4376-b78e-28960cd544b7",
   "metadata": {},
   "source": [
    "<br>"
   ]
  },
  {
   "cell_type": "code",
   "execution_count": null,
   "id": "ab050b24-8a83-4402-9433-6711f2471196",
   "metadata": {
    "editable": true,
    "slideshow": {
     "slide_type": ""
    },
    "tags": []
   },
   "outputs": [],
   "source": [
    "import os\n",
    "\n",
    "os.urandom(4)"
   ]
  },
  {
   "cell_type": "markdown",
   "id": "6eb6035d-739e-489f-90bc-0fb684d5075a",
   "metadata": {},
   "source": [
    "<br>"
   ]
  },
  {
   "cell_type": "code",
   "execution_count": null,
   "id": "74ba9ad4-7f1f-4a8c-b980-72d44ff4f3d0",
   "metadata": {
    "tags": []
   },
   "outputs": [],
   "source": [
    "np.array(os.urandom(4)).view(np.uint32)"
   ]
  },
  {
   "cell_type": "markdown",
   "id": "61e0076e-45c5-41a1-aae7-57ce1da59eae",
   "metadata": {},
   "source": [
    "<br>"
   ]
  },
  {
   "cell_type": "code",
   "execution_count": null,
   "id": "44bcf6e3-2851-4b98-b7d4-d672feda0c4d",
   "metadata": {
    "tags": []
   },
   "outputs": [],
   "source": [
    "np.random.seed(np.array(os.urandom(4)).view(np.uint32))"
   ]
  },
  {
   "cell_type": "markdown",
   "id": "1b1bb059-0ee0-4ccd-ba1a-201020130493",
   "metadata": {
    "slideshow": {
     "slide_type": "slide"
    },
    "tags": []
   },
   "source": [
    "Random numbers get particularly [interesting when parallel processing](https://kaushikghose.wordpress.com/2013/11/22/random-numbers-in-a-parallel-world/)."
   ]
  },
  {
   "cell_type": "markdown",
   "id": "d9c90d8b-49f4-44a3-840d-9eaa66adcc29",
   "metadata": {},
   "source": [
    "<br>"
   ]
  },
  {
   "cell_type": "code",
   "execution_count": null,
   "id": "e8b8bbde-c08e-4a90-b24f-dcc3cf052fb5",
   "metadata": {
    "tags": []
   },
   "outputs": [],
   "source": [
    "import multiprocessing\n",
    "\n",
    "def child(n):\n",
    "    # np.random.seed(np.array(os.urandom(4)).view(np.uint32))\n",
    "    return np.random.normal(0, 1, 6)\n",
    "\n",
    "pool = multiprocessing.Pool()\n",
    "for line in pool.map(child, range(15)):\n",
    "    print(line)"
   ]
  },
  {
   "cell_type": "markdown",
   "id": "da65ee9d-636a-46c1-b49b-b4be6fd40e4d",
   "metadata": {
    "slideshow": {
     "slide_type": "slide"
    },
    "tags": []
   },
   "source": [
    "For proper seeding, CUDA (and Numba) come with specialized functions to send appropriate seeds to each thread.\n",
    "\n",
    "In Numba, these are `numba.cuda.random.*xoroshiro128p*` ([docs](https://numba.readthedocs.io/en/stable/cuda/random.html))."
   ]
  },
  {
   "cell_type": "code",
   "execution_count": null,
   "id": "983a6041-58db-45bc-a330-51d6c68cc065",
   "metadata": {
    "tags": []
   },
   "outputs": [],
   "source": [
    "import cupy as cp\n",
    "import numba as nb\n",
    "import numba.cuda\n",
    "from numba.cuda.random import create_xoroshiro128p_states\n",
    "from numba.cuda.random import xoroshiro128p_uniform_float32\n",
    "\n",
    "@nb.cuda.jit\n",
    "def generate_uniform(rng_states, out):\n",
    "    thread_idx = nb.cuda.grid(1)\n",
    "    for j in range(1000):\n",
    "        out[thread_idx, j] = xoroshiro128p_uniform_float32(rng_states, thread_idx)\n",
    "\n",
    "out = cp.empty((10000, 1000), dtype=np.float32)\n",
    "\n",
    "num_threads = 1024\n",
    "num_blocks = int(np.ceil(len(out) / 1024))\n",
    "\n",
    "rng_states = create_xoroshiro128p_states(num_threads * num_blocks, seed=12345)\n",
    "\n",
    "generate_uniform[num_blocks, num_threads](rng_states, out)\n",
    "out"
   ]
  },
  {
   "cell_type": "code",
   "execution_count": null,
   "id": "f65c39b5-575b-4138-8bdf-1ed882d4335a",
   "metadata": {
    "editable": true,
    "slideshow": {
     "slide_type": "slide"
    },
    "tags": []
   },
   "outputs": [],
   "source": [
    "Hist.new.Reg(10000, 0, 1).Double().fill(out.get().flatten()).plot();"
   ]
  },
  {
   "cell_type": "markdown",
   "id": "fe0b9613-9327-4b04-a530-04be1c811cac",
   "metadata": {
    "editable": true,
    "slideshow": {
     "slide_type": "slide"
    },
    "tags": []
   },
   "source": [
    "I want to leave extra time for you to work on the last project and for your feedback."
   ]
  },
  {
   "cell_type": "markdown",
   "id": "f23806e2-1ca7-46c3-aaf0-18208ae19e03",
   "metadata": {
    "editable": true,
    "slideshow": {
     "slide_type": ""
    },
    "tags": []
   },
   "source": [
    "<br><br><br><br><br>"
   ]
  },
  {
   "cell_type": "markdown",
   "id": "9c107926-be81-46a7-8091-8f8f22d6df43",
   "metadata": {
    "editable": true,
    "slideshow": {
     "slide_type": ""
    },
    "tags": []
   },
   "source": [
    "It's a fun one!"
   ]
  }
 ],
 "metadata": {
  "kernelspec": {
   "display_name": "Python 3 (ipykernel)",
   "language": "python",
   "name": "python3"
  },
  "language_info": {
   "codemirror_mode": {
    "name": "ipython",
    "version": 3
   },
   "file_extension": ".py",
   "mimetype": "text/x-python",
   "name": "python",
   "nbconvert_exporter": "python",
   "pygments_lexer": "ipython3",
   "version": "3.10.8"
  }
 },
 "nbformat": 4,
 "nbformat_minor": 5
}
